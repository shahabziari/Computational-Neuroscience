{
  "nbformat": 4,
  "nbformat_minor": 0,
  "metadata": {
    "colab": {
      "provenance": [],
      "collapsed_sections": [
        "Td9Rgfuzm3lt",
        "GHEcG3rKnBJQ",
        "BvbERvLrB-AL",
        "j4uGKUykL1Rh"
      ]
    },
    "kernelspec": {
      "name": "python3",
      "display_name": "Python 3"
    },
    "language_info": {
      "name": "python"
    }
  },
  "cells": [
    {
      "cell_type": "code",
      "metadata": {
        "colab": {
          "base_uri": "https://localhost:8080/"
        },
        "id": "huHfcVAQiWep",
        "outputId": "6499e625-5397-4d66-e014-c1177a4e1c24"
      },
      "source": [
        "!pip install brian2"
      ],
      "execution_count": null,
      "outputs": [
        {
          "output_type": "stream",
          "text": [
            "Collecting brian2\n",
            "\u001b[?25l  Downloading https://files.pythonhosted.org/packages/9a/c7/565012c479953d041d5e828938515d3c402d0c3f4942180f1c44cb0f472e/Brian2-2.4.2.tar.gz (1.2MB)\n",
            "\u001b[K     |████████████████████████████████| 1.2MB 6.4MB/s \n",
            "\u001b[?25hRequirement already satisfied: numpy>=1.15 in /usr/local/lib/python3.7/dist-packages (from brian2) (1.19.5)\n",
            "Requirement already satisfied: cython>=0.29 in /usr/local/lib/python3.7/dist-packages (from brian2) (0.29.23)\n",
            "Requirement already satisfied: sympy>=1.2 in /usr/local/lib/python3.7/dist-packages (from brian2) (1.7.1)\n",
            "Requirement already satisfied: pyparsing in /usr/local/lib/python3.7/dist-packages (from brian2) (2.4.7)\n",
            "Requirement already satisfied: jinja2>=2.7 in /usr/local/lib/python3.7/dist-packages (from brian2) (2.11.3)\n",
            "Requirement already satisfied: setuptools>=24.2 in /usr/local/lib/python3.7/dist-packages (from brian2) (57.0.0)\n",
            "Requirement already satisfied: mpmath>=0.19 in /usr/local/lib/python3.7/dist-packages (from sympy>=1.2->brian2) (1.2.1)\n",
            "Requirement already satisfied: MarkupSafe>=0.23 in /usr/local/lib/python3.7/dist-packages (from jinja2>=2.7->brian2) (2.0.1)\n",
            "Building wheels for collected packages: brian2\n",
            "  Building wheel for brian2 (setup.py) ... \u001b[?25l\u001b[?25hdone\n",
            "  Created wheel for brian2: filename=Brian2-2.4.2-cp37-cp37m-linux_x86_64.whl size=1257154 sha256=6548f395ba3063f4217fc937bcc0d4df99221e3c239368e21747da8601fde830\n",
            "  Stored in directory: /root/.cache/pip/wheels/5d/4b/cf/ef50e71df5479d67f981cbb17b1d842381019d27ba144d57de\n",
            "Successfully built brian2\n",
            "Installing collected packages: brian2\n",
            "Successfully installed brian2-2.4.2\n"
          ],
          "name": "stdout"
        }
      ]
    },
    {
      "cell_type": "code",
      "metadata": {
        "id": "5JEVcVWDG7aE"
      },
      "source": [
        "import random \n",
        "import numpy as np\n",
        "from brian2 import *\n",
        "import matplotlib.pyplot as plt"
      ],
      "execution_count": null,
      "outputs": []
    },
    {
      "cell_type": "markdown",
      "metadata": {
        "id": "Td9Rgfuzm3lt"
      },
      "source": [
        "# **Question 1**"
      ]
    },
    {
      "cell_type": "code",
      "metadata": {
        "colab": {
          "base_uri": "https://localhost:8080/",
          "height": 299
        },
        "id": "yTo0Y-RVYb8m",
        "outputId": "a916b425-ea10-4bf7-a47c-aae8de2c9bab"
      },
      "source": [
        "taupre      = taupost = 25*ms\n",
        "Apre        = 0.01\n",
        "Apost       = -0.01\n",
        "tmax        = 100*ms\n",
        "N           = 100\n",
        "\n",
        "pre         = NeuronGroup(N, 'tspike:second', threshold='t>tspike', refractory=200*ms)\n",
        "post        = NeuronGroup(N, 'tspike:second', threshold='t>tspike', refractory=200*ms)\n",
        "pre.tspike  = 'i*tmax/(N-1)'\n",
        "post.tspike = '(N-1-i)*tmax/(N-1)'\n",
        "\n",
        "S = Synapses(pre, post,\n",
        "             '''\n",
        "             w : 1\n",
        "             dapre/dt = -apre/taupre : 1 (event-driven)\n",
        "             dapost/dt = -apost/taupost : 1 (event-driven)\n",
        "             ''',\n",
        "\n",
        "             on_pre='''\n",
        "             apre += Apre\n",
        "             w = w+apost\n",
        "             ''',\n",
        "             \n",
        "             on_post='''\n",
        "             apost += Apost\n",
        "             w = w+apre\n",
        "             ''')\n",
        "S.connect(j='i')\n",
        "\n",
        "run(tmax+1*ms)\n",
        "\n",
        "plot((post.tspike-pre.tspike)/ms, S.w, '.k')\n",
        "xlabel(r'$\\Delta t$ (ms)')\n",
        "ylabel(r'$\\Delta w$')\n",
        "axhline(0, ls='-', c='k')"
      ],
      "execution_count": null,
      "outputs": [
        {
          "output_type": "execute_result",
          "data": {
            "text/plain": [
              "<matplotlib.lines.Line2D at 0x7f4bb5d21f90>"
            ]
          },
          "metadata": {
            "tags": []
          },
          "execution_count": 3
        },
        {
          "output_type": "display_data",
          "data": {
            "image/png": "[encoded data removed]",
            "text/plain": [
              "<Figure size 432x288 with 1 Axes>"
            ]
          },
          "metadata": {
            "tags": [],
            "needs_background": "light"
          }
        }
      ]
    },
    {
      "cell_type": "markdown",
      "metadata": {
        "id": "GHEcG3rKnBJQ"
      },
      "source": [
        "# **Question 2**"
      ]
    },
    {
      "cell_type": "code",
      "metadata": {
        "id": "AqW0-S0pM2cG"
      },
      "source": [
        "inp   = 10\n",
        "out   = 2"
      ],
      "execution_count": null,
      "outputs": []
    },
    {
      "cell_type": "markdown",
      "metadata": {
        "id": "BvbERvLrB-AL"
      },
      "source": [
        "## **without pattern array**"
      ]
    },
    {
      "cell_type": "code",
      "metadata": {
        "colab": {
          "base_uri": "https://localhost:8080/",
          "height": 299
        },
        "id": "GPBzfiWwB8jf",
        "outputId": "3d34cede-1845-4763-c5af-0e76514eb036"
      },
      "source": [
        "taupre      = taupost = 40*ms\n",
        "Apre        = 0.01\n",
        "Apost       = -0.01\n",
        "tmax        = 100*ms\n",
        "\n",
        "\n",
        "pre         = NeuronGroup(inp, 'tspike:second', threshold='t>tspike', refractory=200*ms)\n",
        "post        = NeuronGroup(out, 'tspike:second', threshold='t>tspike', refractory=200*ms)\n",
        "pre.tspike  = 'i*tmax/(inp-1)'\n",
        "post.tspike = '(out-1-i)*tmax/(out-1)'\n",
        "\n",
        "S = Synapses(pre, post,\n",
        "             '''\n",
        "             w : 1\n",
        "             dapre/dt = -apre/taupre : 1 (event-driven)\n",
        "             dapost/dt = -apost/taupost : 1 (event-driven)\n",
        "             ''',\n",
        "\n",
        "             on_pre='''\n",
        "             apre += Apre\n",
        "             w = w+apost\n",
        "             ''',\n",
        "             \n",
        "             on_post='''\n",
        "             apost += Apost\n",
        "             w = w+apre\n",
        "             ''')\n",
        "S.connect(i=np.arange(10),j=0)\n",
        "S.connect(i=np.arange(10),j=1)\n",
        "run(tmax+1*ms)\n",
        "\n",
        "spikes = []\n",
        "for a in range (2):\n",
        "  for b in range (10):\n",
        "    spikes.append(post.tspike[a] - pre.tspike[b])\n",
        "plot((spikes)/ms, S.w, '.k')\n",
        "xlabel(r'$\\Delta t$ (ms)')\n",
        "ylabel(r'$\\Delta w$')\n",
        "axhline(0, ls='-', c='k')"
      ],
      "execution_count": null,
      "outputs": [
        {
          "output_type": "execute_result",
          "data": {
            "text/plain": [
              "<matplotlib.lines.Line2D at 0x7fc045b9c210>"
            ]
          },
          "metadata": {
            "tags": []
          },
          "execution_count": 9
        },
        {
          "output_type": "display_data",
          "data": {
            "image/png": "[encoded data removed]",
            "text/plain": [
              "<Figure size 432x288 with 1 Axes>"
            ]
          },
          "metadata": {
            "tags": [],
            "needs_background": "light"
          }
        }
      ]
    },
    {
      "cell_type": "markdown",
      "metadata": {
        "id": "j4uGKUykL1Rh"
      },
      "source": [
        "## **with pattern array**"
      ]
    },
    {
      "cell_type": "code",
      "metadata": {
        "id": "rEOePJb3dFFC"
      },
      "source": [
        "v_rest = -70 * mV\n",
        "v_reset = -65 * mV\n",
        "firing_threshold = -50 * mV\n",
        "membrane_time_scale = 8.  * ms\n",
        "\n",
        "taupre = taupost = 80*ms\n",
        "Apre = 0.01\n",
        "Apost = -0.01\n",
        "\n",
        "eqs = \"\"\"\n",
        "    dv/dt = (-(v-v_rest))/ membrane_time_scale : volt\n",
        "    firing_threshold : volt\n",
        "    v_reset : volt\n",
        "    \"\"\""
      ],
      "execution_count": null,
      "outputs": []
    },
    {
      "cell_type": "code",
      "metadata": {
        "id": "a0g-sDh2Z8zs"
      },
      "source": [
        "indices = array([0,1,2,3,4,5,6,7,8,9])\n",
        "times = array([1,2,3,4,5,6,7,8,9,10])*ms"
      ],
      "execution_count": null,
      "outputs": []
    },
    {
      "cell_type": "code",
      "metadata": {
        "id": "IS4z5xI1HNIl"
      },
      "source": [
        "input_layer     = SpikeGeneratorGroup(inp, indices, times)\n",
        "output_layer    = NeuronGroup(out,  eqs, threshold='v>=firing_threshold', reset='v=v_reset', method='euler')\n",
        "output_layer.firing_threshold = firing_threshold\n",
        "output_layer.v_reset = v_reset\n",
        "\n",
        "syn = Synapses(input_layer, output_layer, '''\n",
        "            w : 1\n",
        "            dapre/dt  = -apre /taupre  : 1 (event-driven)\n",
        "            dapost/dt = -apost/taupost : 1 (event-driven)\n",
        "            ''',\n",
        "            on_pre='''\n",
        "            v_post += 5*w*mV\n",
        "            apre += Apre\n",
        "            w = w+apost\n",
        "            ''',\n",
        "            on_post='''             \n",
        "            apost += Apost\n",
        "            w = w+apre\n",
        "            ''')\n",
        "syn.connect(p=1)\n",
        "#syn.w = [rand() for i in range(20)]\n",
        "syn.w=[0.9 for i in range(20)]\n",
        "synapse_mon = StateMonitor(syn, ['w', 'apost', 'apre', 'v_post'] , record=True)\n",
        "out_mon = StateMonitor(output_layer, 'v', record=True)\n",
        "out_spike_mon = SpikeMonitor(output_layer)\n",
        "in_spike_mon = SpikeMonitor(input_layer)\n",
        "\n",
        "run(times[-1])"
      ],
      "execution_count": null,
      "outputs": []
    },
    {
      "cell_type": "code",
      "metadata": {
        "colab": {
          "base_uri": "https://localhost:8080/",
          "height": 298
        },
        "id": "gQdMWh7m59rM",
        "outputId": "fb27f263-2a39-48a5-a18d-38341b01642d"
      },
      "source": [
        "for i in range(10):\n",
        "    plot(synapse_mon.t, synapse_mon.w[i].T)\n",
        "plt.title(\"weights of neuron 1\")"
      ],
      "execution_count": null,
      "outputs": [
        {
          "output_type": "execute_result",
          "data": {
            "text/plain": [
              "Text(0.5, 1.0, 'weights of neuron 1')"
            ]
          },
          "metadata": {
            "tags": []
          },
          "execution_count": 89
        },
        {
          "output_type": "display_data",
          "data": {
            "image/png": "[encoded data removed]",
            "text/plain": [
              "<Figure size 432x288 with 1 Axes>"
            ]
          },
          "metadata": {
            "tags": [],
            "needs_background": "light"
          }
        }
      ]
    },
    {
      "cell_type": "code",
      "metadata": {
        "colab": {
          "base_uri": "https://localhost:8080/",
          "height": 298
        },
        "id": "USA8XD0N8leb",
        "outputId": "2aeefb98-0a88-4c9a-d094-2c801ee4423a"
      },
      "source": [
        "for i in range(10,20):\n",
        "    plot(synapse_mon.t, synapse_mon.w[i].T)\n",
        "plt.title(\"weights of neuron 2\")"
      ],
      "execution_count": null,
      "outputs": [
        {
          "output_type": "execute_result",
          "data": {
            "text/plain": [
              "Text(0.5, 1.0, 'weights of neuron 2')"
            ]
          },
          "metadata": {
            "tags": []
          },
          "execution_count": 90
        },
        {
          "output_type": "display_data",
          "data": {
            "image/png": "[encoded data removed]",
            "text/plain": [
              "<Figure size 432x288 with 1 Axes>"
            ]
          },
          "metadata": {
            "tags": [],
            "needs_background": "light"
          }
        }
      ]
    },
    {
      "cell_type": "code",
      "metadata": {
        "id": "tkV6XOaDeCLi",
        "colab": {
          "base_uri": "https://localhost:8080/",
          "height": 298
        },
        "outputId": "8ff273ec-a050-4825-a635-79293fc2df09"
      },
      "source": [
        "plot(out_mon.t, out_mon.v[0].T, label='neuron 1')\n",
        "plt.title(\"output potential of neuron 1\")\n",
        "legend()"
      ],
      "execution_count": null,
      "outputs": [
        {
          "output_type": "execute_result",
          "data": {
            "text/plain": [
              "<matplotlib.legend.Legend at 0x7f4cb7a6cc50>"
            ]
          },
          "metadata": {
            "tags": []
          },
          "execution_count": 91
        },
        {
          "output_type": "display_data",
          "data": {
            "image/png": "[encoded data removed]",
            "text/plain": [
              "<Figure size 432x288 with 1 Axes>"
            ]
          },
          "metadata": {
            "tags": [],
            "needs_background": "light"
          }
        }
      ]
    },
    {
      "cell_type": "code",
      "metadata": {
        "colab": {
          "base_uri": "https://localhost:8080/",
          "height": 298
        },
        "id": "h4kpbadr78cu",
        "outputId": "be4ab727-6552-4f7c-cba5-36d26815008d"
      },
      "source": [
        "plot(out_mon.t, out_mon.v[1].T, label='neuron 2')\n",
        "plt.title(\"output potential of neuron 2\")\n",
        "legend()"
      ],
      "execution_count": null,
      "outputs": [
        {
          "output_type": "execute_result",
          "data": {
            "text/plain": [
              "<matplotlib.legend.Legend at 0x7f4cb79f6750>"
            ]
          },
          "metadata": {
            "tags": []
          },
          "execution_count": 92
        },
        {
          "output_type": "display_data",
          "data": {
            "image/png": "[encoded data removed]",
            "text/plain": [
              "<Figure size 432x288 with 1 Axes>"
            ]
          },
          "metadata": {
            "tags": [],
            "needs_background": "light"
          }
        }
      ]
    },
    {
      "cell_type": "code",
      "metadata": {
        "colab": {
          "base_uri": "https://localhost:8080/",
          "height": 298
        },
        "id": "5ErRvwUzpwQ2",
        "outputId": "4645b332-94a6-49d6-d4c7-e78b89d219b7"
      },
      "source": [
        "plot(out_spike_mon.t, out_spike_mon.i, '.k')\n",
        "plt.title(\"output layer spikes\")"
      ],
      "execution_count": null,
      "outputs": [
        {
          "output_type": "execute_result",
          "data": {
            "text/plain": [
              "Text(0.5, 1.0, 'output layer spikes')"
            ]
          },
          "metadata": {
            "tags": []
          },
          "execution_count": 83
        },
        {
          "output_type": "display_data",
          "data": {
            "image/png": "[encoded data removed]",
            "text/plain": [
              "<Figure size 432x288 with 1 Axes>"
            ]
          },
          "metadata": {
            "tags": [],
            "needs_background": "light"
          }
        }
      ]
    },
    {
      "cell_type": "code",
      "metadata": {
        "colab": {
          "base_uri": "https://localhost:8080/",
          "height": 298
        },
        "id": "WhaK0v_r84sF",
        "outputId": "4e33e923-a884-4d1b-8cbf-2203aa1adfce"
      },
      "source": [
        "plot(in_spike_mon.t, in_spike_mon.i, '.k')\n",
        "plt.title(\"input layer spikes\")"
      ],
      "execution_count": null,
      "outputs": [
        {
          "output_type": "execute_result",
          "data": {
            "text/plain": [
              "Text(0.5, 1.0, 'input layer spikes')"
            ]
          },
          "metadata": {
            "tags": []
          },
          "execution_count": 67
        },
        {
          "output_type": "display_data",
          "data": {
            "image/png": "[encoded data removed]",
            "text/plain": [
              "<Figure size 432x288 with 1 Axes>"
            ]
          },
          "metadata": {
            "tags": [],
            "needs_background": "light"
          }
        }
      ]
    }
  ]
}